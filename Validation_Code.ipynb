{
 "cells": [
  {
   "cell_type": "markdown",
   "id": "9f04dde3",
   "metadata": {},
   "source": [
    "# Validation Code for the Bipartite Method "
   ]
  },
  {
   "cell_type": "code",
   "execution_count": null,
   "id": "49a88a85",
   "metadata": {},
   "outputs": [],
   "source": [
    "import networkx as nx\n",
    "G = nx.Graph()\n",
    "\n",
    "with open('pairs-label-training.txt') as f:\n",
    "    cnt=0\n",
    "    for line in f.readlines():\n",
    "        cnt+=1\n",
    "        if(cnt>1000):\n",
    "            break\n",
    "        list1=line.split(\", \")\n",
    "        G.add_edge(int(list1[0]),int(list1[1]))\n",
    "        if(int(list1[2])==0):\n",
    "            G[int(list1[0])][int(list1[1])]['weight']=0\n",
    "        else:\n",
    "            G[int(list1[0])][int(list1[1])]['weight']=1\n"
   ]
  },
  {
   "cell_type": "code",
   "execution_count": null,
   "id": "ff4a2d25",
   "metadata": {},
   "outputs": [],
   "source": [
    "for it in range(1,1000):\n",
    "    for it2 in range(1,it):\n",
    "        if(G.has_node(it2) and G.has_node(it)):\n",
    "            list2=nx.all_simple_paths(G, source=it2, target=it, cutoff=10)\n",
    "            checklist=[]\n",
    "            print(\"Paths from source to target:\")\n",
    "            for path in list2:\n",
    "                currsum=0\n",
    "                for ele in range(0,len(path)-2):\n",
    "                    currsum+=G[path[ele]][path[ele+1]]['weight']\n",
    "                checklist.append(currsum%2)\n",
    "                print(path)\n",
    "                \n",
    "            \n",
    "            print(\" \")\n",
    "            print(\"Parity list of sum of edges of path from source to target =\")\n",
    "            print(checklist)\n",
    "            if(len(set(checklist))==1 or len(checklist)==0):\n",
    "                print(\"All Path parity same\")\n",
    "            else:\n",
    "                print(\"Parity not same\")\n",
    "            \n",
    "            print(\" \")"
   ]
  },
  {
   "cell_type": "code",
   "execution_count": null,
   "id": "a515450d",
   "metadata": {},
   "outputs": [],
   "source": []
  },
  {
   "cell_type": "code",
   "execution_count": null,
   "id": "9cb67176",
   "metadata": {},
   "outputs": [],
   "source": []
  }
 ],
 "metadata": {
  "kernelspec": {
   "display_name": "Python 3.9.7 ('base')",
   "language": "python",
   "name": "python3"
  },
  "language_info": {
   "codemirror_mode": {
    "name": "ipython",
    "version": 3
   },
   "file_extension": ".py",
   "mimetype": "text/x-python",
   "name": "python",
   "nbconvert_exporter": "python",
   "pygments_lexer": "ipython3",
   "version": "3.9.7"
  },
  "vscode": {
   "interpreter": {
    "hash": "a71a9e4fb054fff428071484f7faa898cb9ecb31a518fe88e3463da9af879578"
   }
  }
 },
 "nbformat": 4,
 "nbformat_minor": 5
}
